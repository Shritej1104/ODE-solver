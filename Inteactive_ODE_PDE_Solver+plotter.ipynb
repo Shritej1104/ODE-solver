{
  "nbformat": 4,
  "nbformat_minor": 0,
  "metadata": {
    "colab": {
      "provenance": []
    },
    "kernelspec": {
      "name": "python3",
      "display_name": "Python 3"
    },
    "language_info": {
      "name": "python"
    }
  },
  "cells": [
    {
      "cell_type": "code",
      "execution_count": null,
      "metadata": {
        "id": "c-rpnTqMAiUh"
      },
      "outputs": [],
      "source": []
    },
    {
      "cell_type": "markdown",
      "source": [
        "python ode/pde solver\n"
      ],
      "metadata": {
        "id": "ahbwjr0FAogt"
      }
    },
    {
      "cell_type": "code",
      "source": [
        "!pip install sympy"
      ],
      "metadata": {
        "colab": {
          "base_uri": "https://localhost:8080/"
        },
        "id": "NNCEkyW3AvGF",
        "outputId": "beb7ab57-b8e5-47de-f916-0be09b417297"
      },
      "execution_count": 1,
      "outputs": [
        {
          "output_type": "stream",
          "name": "stdout",
          "text": [
            "Requirement already satisfied: sympy in /usr/local/lib/python3.12/dist-packages (1.13.3)\n",
            "Requirement already satisfied: mpmath<1.4,>=1.1.0 in /usr/local/lib/python3.12/dist-packages (from sympy) (1.3.0)\n"
          ]
        }
      ]
    },
    {
      "cell_type": "code",
      "source": [
        "import sympy as sp\n",
        "import matplotlib.pyplot as plt"
      ],
      "metadata": {
        "id": "dbuopAL3A17D"
      },
      "execution_count": 6,
      "outputs": []
    },
    {
      "cell_type": "code",
      "source": [
        "# define variables\n",
        "x= sp.Symbol('x')\n",
        "y= sp.Function('y')\n",
        "\n",
        "#Defin ODE : dy/dx + y = e^x\n",
        "\n",
        "ode = sp.Eq(sp.Derivative(y(x),x)+ y(x), sp.exp(x))\n",
        "\n",
        "#solve ODE\n",
        "solution = sp.dsolve(ode)\n",
        "solution\n",
        ""
      ],
      "metadata": {
        "colab": {
          "base_uri": "https://localhost:8080/",
          "height": 51
        },
        "id": "JYw1oCiCBQGV",
        "outputId": "e96af07e-4692-43f3-8c1f-f533d562127b"
      },
      "execution_count": 10,
      "outputs": [
        {
          "output_type": "execute_result",
          "data": {
            "text/plain": [
              "Eq(y(x), C1*exp(-x) + exp(x)/2)"
            ],
            "text/latex": "$\\displaystyle y{\\left(x \\right)} = C_{1} e^{- x} + \\frac{e^{x}}{2}$"
          },
          "metadata": {},
          "execution_count": 10
        }
      ]
    },
    {
      "cell_type": "markdown",
      "source": [
        "## Plot the solution"
      ],
      "metadata": {
        "id": "2ptBSOg1DlIG"
      }
    },
    {
      "cell_type": "markdown",
      "source": [
        "We will assume constant C1 = 1 for visualization\n"
      ],
      "metadata": {
        "id": "Xptlxd8HD5mU"
      }
    },
    {
      "cell_type": "code",
      "source": [
        "#Get solution with c1=1\n",
        "c1= sp.symbols('C1')\n",
        "sol_with_const = solution.subs(c1,1)\n",
        "\n",
        "#convert Sympy solution to numpy function\n",
        "f = sp.lambdify(x, sol_with_const.rhs, \"numpy\")\n",
        "\n",
        "import numpy as np\n",
        "X = np.linspace(0,5,100)\n",
        "Y = f(X)\n",
        "\n",
        "#plot\n",
        "plt.plot(X,Y, label=\"y(s) solutions\")\n",
        "plt.xlabel(\"x\")\n",
        "plt.ylabel(\"y(x)\")\n",
        "plt.title(\"Solution of ODE : dy/dx+y=e^x\")\n",
        "plt.legend()\n",
        "plt.grid()\n",
        "plt.show()\n"
      ],
      "metadata": {
        "colab": {
          "base_uri": "https://localhost:8080/",
          "height": 472
        },
        "id": "uUOsQ1RjCp89",
        "outputId": "5ae76eb2-3b2d-459c-fe80-5947843b31a8"
      },
      "execution_count": 17,
      "outputs": [
        {
          "output_type": "display_data",
          "data": {
            "text/plain": [
              "<Figure size 640x480 with 1 Axes>"
            ],
            "image/png": "[encoded data removed]"
          },
          "metadata": {}
        }
      ]
    },
    {
      "cell_type": "markdown",
      "source": [
        "This gives a graph of solutions"
      ],
      "metadata": {
        "id": "zTx66fPVGt1U"
      }
    },
    {
      "cell_type": "markdown",
      "source": [
        "# Making it Interactive"
      ],
      "metadata": {
        "id": "0PQE7qYGHFE9"
      }
    },
    {
      "cell_type": "code",
      "source": [
        "!pip install Sympy\n",
        "import sympy as sp\n",
        "import matplotlib.pyplot as plt\n",
        "import numpy as np\n"
      ],
      "metadata": {
        "colab": {
          "base_uri": "https://localhost:8080/"
        },
        "id": "OqJYUsgAHBc7",
        "outputId": "c5a8bf83-eb49-419f-d794-5bf7b6e8367b"
      },
      "execution_count": 19,
      "outputs": [
        {
          "output_type": "stream",
          "name": "stdout",
          "text": [
            "Requirement already satisfied: Sympy in /usr/local/lib/python3.12/dist-packages (1.13.3)\n",
            "Requirement already satisfied: mpmath<1.4,>=1.1.0 in /usr/local/lib/python3.12/dist-packages (from Sympy) (1.3.0)\n"
          ]
        }
      ]
    },
    {
      "cell_type": "code",
      "source": [
        "#defne variables\n",
        "x = sp.Symbol('x')\n",
        "y = sp.Function('y')\n",
        "C1 = Sp.Symbol('C1') #integration constant"
      ],
      "metadata": {
        "id": "FCMZT5RhH0Yy"
      },
      "execution_count": null,
      "outputs": []
    },
    {
      "cell_type": "code",
      "source": [
        "print (\"Example input : sp.Deriative(y(x), x)+ y(x)-sp.exp(x) \")\n",
        "#take input equation from user\n",
        "expr = input(\"Enter your ODE i terms of y and x : \")\n",
        "\n",
        "#Covert string into sympy expression\n",
        " ode = eval(expr)\n",
        "\n",
        " #solve ODE\n",
        " solution = sp.dsolve(sp.Eq(ode,0))\n",
        " print(\"General Solution:\", solution)\n",
        "\n",
        " #Replace constant for plotting\n",
        " sol_with_const = solution.subs(C1, c1_value)\n",
        "\n",
        " #Covert to numpy function\n",
        " f= sp.lambdify(x, sol_with_const.rhs, \"numpy\")\n",
        " #plot\n",
        " #Get solution with c1=1\n",
        "c1= sp.symbols('C1')\n",
        "sol_with_const = solution.subs(c1,1)\n",
        "\n",
        "#convert Sympy solution to numpy function\n",
        "f = sp.lambdify(x, sol_with_const.rhs, \"numpy\")\n",
        "\n",
        "import numpy as np\n",
        "X = np.linspace(0,5,100)\n",
        "Y = f(X)\n",
        "\n",
        "#plot\n",
        "plt.plot(X,Y, label=\"y(s) solutions\")\n",
        "plt.xlabel(\"x\")\n",
        "plt.ylabel(\"y(x)\")\n",
        "plt.title(\"Solution of ODE : dy/dx+y=e^x\")\n",
        "plt.legend()\n",
        "plt.grid()\n",
        "plt.show()\n",
        "\n",
        "return solution"
      ],
      "metadata": {
        "colab": {
          "base_uri": "https://localhost:8080/",
          "height": 108
        },
        "id": "y1MyRoWOJZwl",
        "outputId": "ddbd4569-083e-4082-accd-112d7360f55d"
      },
      "execution_count": 21,
      "outputs": [
        {
          "output_type": "error",
          "ename": "IndentationError",
          "evalue": "unexpected indent (ipython-input-1955931156.py, line 6)",
          "traceback": [
            "\u001b[0;36m  File \u001b[0;32m\"/tmp/ipython-input-1955931156.py\"\u001b[0;36m, line \u001b[0;32m6\u001b[0m\n\u001b[0;31m    ode = eval(expr)\u001b[0m\n\u001b[0m    ^\u001b[0m\n\u001b[0;31mIndentationError\u001b[0m\u001b[0;31m:\u001b[0m unexpected indent\n"
          ]
        }
      ]
    },
    {
      "cell_type": "code",
      "source": [
        "!pip install sympy\n",
        "import sympy as sp\n",
        "import matplotlib.pyplot as plt\n",
        "import numpy as np\n",
        "\n",
        "# Define variables\n",
        "x = sp.Symbol('x')\n",
        "y = sp.Function('y')\n",
        "C1 = sp.Symbol('C1')\n",
        "\n",
        "print(\"👉 Example input you can try:\")\n",
        "print(\"   sp.Derivative(y(x), x) + y(x) - sp.exp(x)\")\n",
        "print(\"   sp.Derivative(y(x), (x,2)) - y(x)\")   # second order example\n",
        "\n",
        "# Take input equation from user\n",
        "expr = input(\"Enter your ODE in terms of y and x: \")\n",
        "\n",
        "# Convert string into sympy expression\n",
        "ode = eval(expr)\n",
        "\n",
        "# Solve ODE\n",
        "solution = sp.dsolve(sp.Eq(ode, 0))\n",
        "print(\"General Solution:\", solution)\n",
        "\n",
        "# Substitute C1 = 1 for plotting\n",
        "sol_with_const = solution.subs(C1, 1)\n",
        "\n",
        "# Convert to numpy function\n",
        "f = sp.lambdify(x, sol_with_const.rhs, \"numpy\")\n",
        "\n",
        "# Plot\n",
        "X = np.linspace(0, 5, 100)\n",
        "Y = f(X)\n",
        "\n",
        "plt.plot(X, Y, label=\"y(x) solution\")\n",
        "plt.xlabel(\"x\")\n",
        "plt.ylabel(\"y(x)\")\n",
        "plt.title(\"Solution of your ODE\")\n",
        "plt.legend()\n",
        "plt.grid()\n",
        "plt.show()\n",
        "return solution"
      ],
      "metadata": {
        "colab": {
          "base_uri": "https://localhost:8080/",
          "height": 454
        },
        "id": "xbcQqH2RLzuQ",
        "outputId": "14a32a7a-c956-4e6b-c3b3-a26161fa09e0"
      },
      "execution_count": 22,
      "outputs": [
        {
          "output_type": "stream",
          "name": "stdout",
          "text": [
            "Requirement already satisfied: sympy in /usr/local/lib/python3.12/dist-packages (1.13.3)\n",
            "Requirement already satisfied: mpmath<1.4,>=1.1.0 in /usr/local/lib/python3.12/dist-packages (from sympy) (1.3.0)\n",
            "👉 Example input you can try:\n",
            "   sp.Derivative(y(x), x) + y(x) - sp.exp(x)\n",
            "   sp.Derivative(y(x), (x,2)) - y(x)\n"
          ]
        },
        {
          "output_type": "error",
          "ename": "KeyboardInterrupt",
          "evalue": "Interrupted by user",
          "traceback": [
            "\u001b[0;31m---------------------------------------------------------------------------\u001b[0m",
            "\u001b[0;31mKeyboardInterrupt\u001b[0m                         Traceback (most recent call last)",
            "\u001b[0;32m/tmp/ipython-input-1691867568.py\u001b[0m in \u001b[0;36m<cell line: 0>\u001b[0;34m()\u001b[0m\n\u001b[1;32m     14\u001b[0m \u001b[0;34m\u001b[0m\u001b[0m\n\u001b[1;32m     15\u001b[0m \u001b[0;31m# Take input equation from user\u001b[0m\u001b[0;34m\u001b[0m\u001b[0;34m\u001b[0m\u001b[0m\n\u001b[0;32m---> 16\u001b[0;31m \u001b[0mexpr\u001b[0m \u001b[0;34m=\u001b[0m \u001b[0minput\u001b[0m\u001b[0;34m(\u001b[0m\u001b[0;34m\"Enter your ODE in terms of y and x: \"\u001b[0m\u001b[0;34m)\u001b[0m\u001b[0;34m\u001b[0m\u001b[0;34m\u001b[0m\u001b[0m\n\u001b[0m\u001b[1;32m     17\u001b[0m \u001b[0;34m\u001b[0m\u001b[0m\n\u001b[1;32m     18\u001b[0m \u001b[0;31m# Convert string into sympy expression\u001b[0m\u001b[0;34m\u001b[0m\u001b[0;34m\u001b[0m\u001b[0m\n",
            "\u001b[0;32m/usr/local/lib/python3.12/dist-packages/ipykernel/kernelbase.py\u001b[0m in \u001b[0;36mraw_input\u001b[0;34m(self, prompt)\u001b[0m\n\u001b[1;32m   1175\u001b[0m                 \u001b[0;34m\"raw_input was called, but this frontend does not support input requests.\"\u001b[0m\u001b[0;34m\u001b[0m\u001b[0;34m\u001b[0m\u001b[0m\n\u001b[1;32m   1176\u001b[0m             )\n\u001b[0;32m-> 1177\u001b[0;31m         return self._input_request(\n\u001b[0m\u001b[1;32m   1178\u001b[0m             \u001b[0mstr\u001b[0m\u001b[0;34m(\u001b[0m\u001b[0mprompt\u001b[0m\u001b[0;34m)\u001b[0m\u001b[0;34m,\u001b[0m\u001b[0;34m\u001b[0m\u001b[0;34m\u001b[0m\u001b[0m\n\u001b[1;32m   1179\u001b[0m             \u001b[0mself\u001b[0m\u001b[0;34m.\u001b[0m\u001b[0m_parent_ident\u001b[0m\u001b[0;34m[\u001b[0m\u001b[0;34m\"shell\"\u001b[0m\u001b[0;34m]\u001b[0m\u001b[0;34m,\u001b[0m\u001b[0;34m\u001b[0m\u001b[0;34m\u001b[0m\u001b[0m\n",
            "\u001b[0;32m/usr/local/lib/python3.12/dist-packages/ipykernel/kernelbase.py\u001b[0m in \u001b[0;36m_input_request\u001b[0;34m(self, prompt, ident, parent, password)\u001b[0m\n\u001b[1;32m   1217\u001b[0m             \u001b[0;32mexcept\u001b[0m \u001b[0mKeyboardInterrupt\u001b[0m\u001b[0;34m:\u001b[0m\u001b[0;34m\u001b[0m\u001b[0;34m\u001b[0m\u001b[0m\n\u001b[1;32m   1218\u001b[0m                 \u001b[0;31m# re-raise KeyboardInterrupt, to truncate traceback\u001b[0m\u001b[0;34m\u001b[0m\u001b[0;34m\u001b[0m\u001b[0m\n\u001b[0;32m-> 1219\u001b[0;31m                 \u001b[0;32mraise\u001b[0m \u001b[0mKeyboardInterrupt\u001b[0m\u001b[0;34m(\u001b[0m\u001b[0;34m\"Interrupted by user\"\u001b[0m\u001b[0;34m)\u001b[0m \u001b[0;32mfrom\u001b[0m \u001b[0;32mNone\u001b[0m\u001b[0;34m\u001b[0m\u001b[0;34m\u001b[0m\u001b[0m\n\u001b[0m\u001b[1;32m   1220\u001b[0m             \u001b[0;32mexcept\u001b[0m \u001b[0mException\u001b[0m\u001b[0;34m:\u001b[0m\u001b[0;34m\u001b[0m\u001b[0;34m\u001b[0m\u001b[0m\n\u001b[1;32m   1221\u001b[0m                 \u001b[0mself\u001b[0m\u001b[0;34m.\u001b[0m\u001b[0mlog\u001b[0m\u001b[0;34m.\u001b[0m\u001b[0mwarning\u001b[0m\u001b[0;34m(\u001b[0m\u001b[0;34m\"Invalid Message:\"\u001b[0m\u001b[0;34m,\u001b[0m \u001b[0mexc_info\u001b[0m\u001b[0;34m=\u001b[0m\u001b[0;32mTrue\u001b[0m\u001b[0;34m)\u001b[0m\u001b[0;34m\u001b[0m\u001b[0;34m\u001b[0m\u001b[0m\n",
            "\u001b[0;31mKeyboardInterrupt\u001b[0m: Interrupted by user"
          ]
        }
      ]
    },
    {
      "cell_type": "code",
      "source": [],
      "metadata": {
        "id": "KGBRAKAmPk3K"
      },
      "execution_count": null,
      "outputs": []
    }
  ]
}